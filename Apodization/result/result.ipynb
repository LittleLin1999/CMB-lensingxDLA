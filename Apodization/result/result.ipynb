{
 "cells": [
  {
   "cell_type": "code",
   "execution_count": 2,
   "metadata": {},
   "outputs": [
    {
     "name": "stdout",
     "output_type": "stream",
     "text": [
      "none      var : 2.330797e-19\n",
      "10 arcmin var : 2.076052e-19\n",
      "30 arcmin var : 3.630893e-19\n",
      "1 deg     var : 8.213063e-19\n"
     ]
    }
   ],
   "source": [
    "import numpy as np\n",
    "\n",
    "cl = np.load('cl_full.npy')[:,:,:]\n",
    "model = np.load('model_full.npy')\n",
    "\n",
    "kernel = ['none','10 arcmin','30 arcmin','1 deg']\n",
    "\n",
    "def bin_corr(c_kq,l_min=100,l_max=1200,band=10):   # bin the power-spectrum\n",
    "\n",
    "    width = int((l_max-l_min)/band)                    # number of l in each bin\n",
    "    bin_Cl = np.zeros((band,1))\n",
    "    bin_l = np.zeros((band,1))\n",
    "\n",
    "    for i in range(band):\n",
    "        ell_min = l_min+width*i\n",
    "        ell_max = l_min+(i+1)*width\n",
    "        ell_seq = np.arange(ell_min,ell_max,1)\n",
    "        weights = (2*ell_seq+1)/np.sum(2*ell_seq+1)\n",
    "        bin_l[i] = np.sum(weights*ell_seq)\n",
    "        bin_Cl[i] = np.sum(weights*c_kq[ell_min:ell_max])\n",
    "\n",
    "    return bin_l, bin_Cl\n",
    "\n",
    "spectra = {j:[] for j in kernel}\n",
    "for index,spec in enumerate(cl):\n",
    "    for i in spec:\n",
    "        bin_l,bin_cl = bin_corr(i,l_min=100,l_max=1200,band=10)\n",
    "        spectra[kernel[index]].append(bin_cl)\n",
    "    \n",
    "\n",
    "bin_m = []\n",
    "for ii in model:        \n",
    "    bin_l, bin_model = bin_corr(ii,l_min=100,l_max=1200,band=10)\n",
    "    bin_m.append(bin_model)\n",
    "\n",
    "    \n",
    "    \n",
    "mean_spec = np.mean(np.array(bin_m),axis=0)\n",
    "for i,sp in enumerate(spectra):\n",
    "    mean = np.array(spectra[sp]).mean(0)\n",
    "    var = np.mean(((mean_spec-mean)**2))\n",
    "    print('%-9s %-3s : %e'%(kernel[i],'var',var))"
   ]
  },
  {
   "cell_type": "code",
   "execution_count": null,
   "metadata": {},
   "outputs": [],
   "source": []
  }
 ],
 "metadata": {
  "kernelspec": {
   "display_name": "Python 3",
   "language": "python",
   "name": "python3"
  },
  "language_info": {
   "codemirror_mode": {
    "name": "ipython",
    "version": 3
   },
   "file_extension": ".py",
   "mimetype": "text/x-python",
   "name": "python",
   "nbconvert_exporter": "python",
   "pygments_lexer": "ipython3",
   "version": "3.7.6"
  }
 },
 "nbformat": 4,
 "nbformat_minor": 4
}
