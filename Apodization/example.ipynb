{
 "cells": [
  {
   "cell_type": "markdown",
   "metadata": {},
   "source": [
    "# theoretical spectra"
   ]
  },
  {
   "cell_type": "markdown",
   "metadata": {},
   "source": [
    "$$\\begin{align}\n",
    "C^{\\kappa \\kappa}_{\\ell} & = [\\ell(\\ell+1)]^2\\int^{\\chi_*}_0 d\\chi (\\frac{\\chi_*-\\chi}{\\chi^2\\chi_*})^2P_\\psi(\\frac{\\ell+0.5}{\\chi},z(\\chi)) \\\\\n",
    "C^{qq}_{\\ell} & = \\int \\frac{dz}{c}\\frac{H(z)}{\\chi^2(z)}f^2(z)P_{mm}(k=\\frac{\\ell}{\\chi},z) \\\\\n",
    "C^{\\kappa q}_{\\ell} & = \\int \\frac{dz}{c}\\frac{H(z)}{\\chi^2(z)}W(z)f(z)P_{mm}(k=\\frac{\\ell}{\\chi},z)\n",
    "\\end{align}$$\n",
    "\n",
    "$W(z), f(z)$ is the window function for CMB lensing and quasar distribution\n",
    "\n",
    "$$\\begin{align}\n",
    "W(z) & = \\frac{3H_0^2\\Omega_{m,0}}{2cH(z)}(1+z)\\chi(z)(1-\\frac{\\chi(z)}{\\chi_*}) \\\\\n",
    "f(z) & = \\frac{b(z)dN/dz}{\\int dz'\\frac{dN}{dz'}} + \\frac{3}{2H(z)}\\Omega_0H_0^2(1+z)g(z)(5s-2)\n",
    "\\end{align}$$\n",
    "\n",
    "we set $s=2/5$ so that the magnification bias term $\\frac{3}{2H(z)}\\Omega_0H_0^2(1+z)g(z)(5s-2)=0$"
   ]
  },
  {
   "cell_type": "code",
   "execution_count": null,
   "metadata": {},
   "outputs": [],
   "source": [
    "from pipeline_mock import *\n",
    "\n",
    "z_min = 2.2\n",
    "z_max = 3.4\n",
    "q_z = np.random.uniform(z_min,z_max,2*10**6)\n",
    "s = 2/5\n",
    "\n",
    "model = mock(q_z,z_min,z_max,s,z_reso=100,lmax=1200)\n",
    "\n",
    "ell_kq, Ckq = model.Ckq(b=2.5,x=range(1200),line=True)\n",
    "plt.plot(ell_kq, Ckq)\n",
    "plt.xlabel(r'$\\ell$')\n",
    "plt.ylabel(r'$C_\\ell^{\\kappa q}$')\n",
    "plt.show()\n",
    "\n",
    "ell_kk, Ckk = model.Ckk(x=range(800),line=True)\n",
    "Ckk[0] = 1E-20\n",
    "plt.plot(ell_kk, Ckk)\n",
    "plt.xlabel(r'\\ell')\n",
    "plt.ylabel(r'$C_\\ell^{\\kappa \\kappa}$')\n",
    "plt.show()\n",
    "\n",
    "ell_qq, Cqq = model.Cqq(b=2.5,x=range(1200),line=True)\n",
    "plt.xlabel(r'$\\ell$')\n",
    "plt.ylabel(r'$C_\\ell^{qq}$')\n",
    "plt.plot(ell_qq, Cqq)\n",
    "plt.show()"
   ]
  },
  {
   "cell_type": "markdown",
   "metadata": {},
   "source": [
    "# generate $\\kappa$ and QSO maps"
   ]
  },
  {
   "cell_type": "markdown",
   "metadata": {},
   "source": [
    "$$\\begin{align}\n",
    "a_{\\ell m}^{\\kappa\\kappa} & = \\xi_a (C_{\\ell}^{\\kappa\\kappa})^{1/2} \\\\\n",
    "a_{\\ell m }^{qq} & = \\xi_a C_{\\ell}^{\\kappa q}/(C_\\ell^{\\kappa\\kappa})^{1/2} + \\xi_b [C_\\ell^{qq}-(C_{\\ell}^{\\kappa q})^2/C_\\ell^{\\kappa\\kappa}]^{1/2}\n",
    "\\end{align}$$\n",
    "\n",
    "$\\xi$ : random amplitude with $\\langle\\xi\\rangle=0$, $\\langle\\xi\\xi^*\\rangle=1$\n",
    "\n",
    "so that :\n",
    "\n",
    "$$\\begin{align}\n",
    "\\langle a_{\\ell m}^{\\kappa\\kappa} a_{\\ell m}^{\\kappa\\kappa*} \\rangle & = C_{\\ell}^{\\kappa\\kappa} \\\\\n",
    "\\langle a_{\\ell m}^{qq} a_{\\ell m}^{qq*} \\rangle & = C_{\\ell}^{qq} \\\\\n",
    "\\langle a_{\\ell m}^{\\kappa\\kappa} a_{\\ell m}^{qq*} \\rangle & = C_{\\ell}^{\\kappa q}\n",
    "\\end{align}$$"
   ]
  },
  {
   "cell_type": "code",
   "execution_count": 2,
   "metadata": {},
   "outputs": [
    {
     "name": "stderr",
     "output_type": "stream",
     "text": [
      "/home/littlelin/anaconda3/lib/python3.7/site-packages/healpy/sphtfunc.py:400: FutureChangeWarning: The order of the input cl's will change in a future release.\n",
      "Use new=True keyword to start using the new order.\n",
      "See documentation of healpy.synalm.\n",
      "  category=FutureChangeWarning,\n"
     ]
    },
    {
     "name": "stdout",
     "output_type": "stream",
     "text": [
      "produce a seed\n",
      "use selected seed\n",
      "produce a seed\n",
      "Sigma is 0.000000 arcmin (0.000000 rad) \n",
      "-> fwhm is 0.000000 arcmin\n",
      "Sigma is 0.000000 arcmin (0.000000 rad) \n",
      "-> fwhm is 0.000000 arcmin\n"
     ]
    },
    {
     "name": "stderr",
     "output_type": "stream",
     "text": [
      "/home/littlelin/anaconda3/lib/python3.7/site-packages/healpy/fitsfunc.py:352: UserWarning: If you are not specifying the input dtype and using the default np.float64 dtype of read_map(), please consider that it will change in a future version to None as to keep the same dtype of the input file: please explicitly set the dtype if it is important to you.\n",
      "  \"If you are not specifying the input dtype and using the default \"\n"
     ]
    },
    {
     "name": "stdout",
     "output_type": "stream",
     "text": [
      "NSIDE = 2048\n",
      "ORDERING = RING in fits file\n",
      "INDXSCHM = IMPLICIT\n",
      "NSIDE = 2048\n",
      "ORDERING = RING in fits file\n",
      "INDXSCHM = IMPLICIT\n",
      "Sigma is 4.246609 arcmin (0.001235 rad) \n",
      "-> fwhm is 10.000000 arcmin\n",
      "Sigma is 0.000000 arcmin (0.000000 rad) \n",
      "-> fwhm is 0.000000 arcmin\n",
      "Sigma is 4.246609 arcmin (0.001235 rad) \n",
      "-> fwhm is 10.000000 arcmin\n",
      "Sigma is 0.000000 arcmin (0.000000 rad) \n",
      "-> fwhm is 0.000000 arcmin\n"
     ]
    }
   ],
   "source": [
    "# generate mocks\n",
    "alm_k,seed = hp.sphtfunc.synalm(Ckk)                    # seed -> xi_a\n",
    "alm_q1,seed = hp.sphtfunc.synalm(Ckq**2/Ckk,seed=seed)  # seed -> xi_a\n",
    "alm_q2,seed = hp.sphtfunc.synalm(Cqq-Ckq**2/Ckk)        # seed -> xi_b\n",
    "\n",
    "alm_q = alm_q1 + alm_q2\n",
    "\n",
    "map_k = hp.alm2map(alm_k,nside=2048)\n",
    "map_q = hp.alm2map(alm_q,nside=2048)\n",
    "\n",
    "# smooth masks\n",
    "mask_q = hp.read_map('mask_q.fits')\n",
    "mask_k = hp.read_map('mask_k.fits')\n",
    "\n",
    "smooth_mask_q =  hp.sphtfunc.smoothing(mask_q,fwhm=np.deg2rad(10/60))\n",
    "smooth_mask_k =  hp.sphtfunc.smoothing(mask_k,fwhm=np.deg2rad(10/60))\n",
    "smooth_mask_kq = smooth_mask_q*smooth_mask_k\n",
    "\n",
    "# measure Cls\n",
    "fkq = np.sum(smooth_mask_kq)/len(smooth_mask_kq)      # sky fraction\n",
    "re = 1/fkq*hp.sphtfunc.anafast(map_k*smooth_mask_kq,\n",
    "                               map_q*smooth_mask_kq,lmax=1200)"
   ]
  },
  {
   "cell_type": "markdown",
   "metadata": {},
   "source": [
    "# Compare the re-constructed one and the modelled one"
   ]
  },
  {
   "cell_type": "code",
   "execution_count": 3,
   "metadata": {},
   "outputs": [
    {
     "data": {
      "image/png": "[encoded data removed]",
      "text/plain": [
       "<Figure size 432x288 with 1 Axes>"
      ]
     },
     "metadata": {
      "needs_background": "light"
     },
     "output_type": "display_data"
    }
   ],
   "source": [
    "ell,cl = bin_corr(re)        # bin the power spectrum into 15 bins\n",
    "ell_m,cl_m = bin_corr(Ckq)\n",
    "\n",
    "plt.plot(ell_m,cl_m,'.',c='r',label='modelled')\n",
    "plt.plot(ell,cl,'.',c='k',label='re-constructed')\n",
    "plt.xlabel(r'$\\ell$')\n",
    "plt.ylabel(r'$C_\\ell^{\\kappa q}$')\n",
    "plt.legend()\n",
    "plt.show()"
   ]
  },
  {
   "cell_type": "code",
   "execution_count": null,
   "metadata": {},
   "outputs": [],
   "source": []
  }
 ],
 "metadata": {
  "kernelspec": {
   "display_name": "Python 3",
   "language": "python",
   "name": "python3"
  },
  "language_info": {
   "codemirror_mode": {
    "name": "ipython",
    "version": 3
   },
   "file_extension": ".py",
   "mimetype": "text/x-python",
   "name": "python",
   "nbconvert_exporter": "python",
   "pygments_lexer": "ipython3",
   "version": "3.7.6"
  }
 },
 "nbformat": 4,
 "nbformat_minor": 4
}
