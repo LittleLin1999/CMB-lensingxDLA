{
 "cells": [
  {
   "cell_type": "code",
   "execution_count": 2,
   "metadata": {},
   "outputs": [],
   "source": [
    "import numpy as np\n",
    "import matplotlib.pyplot as plt\n",
    "import os\n",
    "\n",
    "%run pipeline.py\n",
    "plt.rcParams['font.family'] = 'serif'\n",
    "plt.rcParams['font.sans-serif'] = 'Times New Roman'\n",
    "plt.rcParams['mathtext.fontset'] = 'cm'\n",
    "plt.rcParams['text.usetex'] = False\n",
    "plt.rcParams['mathtext.rm'] = 'Times New Roman'\n",
    "plt.rcParams['mathtext.it'] = 'Times New Roman:italic'\n",
    "plt.rcParams['mathtext.bf'] = 'Times New Roman:bold'\n",
    "plt.rcParams['font.size'] = 14\n",
    "plt.rcParams['xtick.direction'] = 'out'\n",
    "plt.rcParams['ytick.direction'] = 'out'"
   ]
  },
  {
   "cell_type": "code",
   "execution_count": 3,
   "metadata": {},
   "outputs": [],
   "source": [
    "path = '10arcmin_random'\n",
    "sims = os.listdir('./%s'%path)\n",
    "\n",
    "spec_q = []\n",
    "spec_dla = []\n",
    "for file in sims:\n",
    "    if file.split('.')[0].split('_')[-1] == 'q':\n",
    "        data = np.load('./%s/%s'%(path,file))\n",
    "        spec_q.append(data)\n",
    "    if file.split('.')[0].split('_')[-1] == 'dla':\n",
    "        data = np.load('./%s/%s'%(path,file))\n",
    "        spec_dla.append(data)\n",
    "        \n",
    "spec_q = np.concatenate(spec_q)\n",
    "spec_dla = np.concatenate(spec_dla)\n",
    "\n",
    "\n",
    "cov_q = np.cov(spec_q.T[0],bias=False)\n",
    "cov_dla = np.cov(spec_dla.T[0],bias=False)\n",
    "\n",
    "std_q = np.sqrt(np.diag(cov_q))\n",
    "std_dla = np.sqrt(np.diag(cov_dla))\n"
   ]
  },
  {
   "cell_type": "code",
   "execution_count": 10,
   "metadata": {},
   "outputs": [
    {
     "data": {
      "image/png": "[encoded data removed]",
      "text/plain": [
       "<Figure size 432x288 with 2 Axes>"
      ]
     },
     "metadata": {
      "needs_background": "light"
     },
     "output_type": "display_data"
    }
   ],
   "source": [
    "l_min=100\n",
    "l_max=1200\n",
    "band=15\n",
    "width = int((l_max-l_min)/band)    \n",
    "x = [np.mean([l_min+width*i,l_min+(i+1)*width]) for i in range(band)]\n",
    "\n",
    "l_min=30\n",
    "l_max=1200\n",
    "band=10\n",
    "width = int((l_max-l_min)/band)   \n",
    "d = [np.mean([l_min+width*i,l_min+(i+1)*width]) for i in range(band)]\n",
    "\n",
    "cx = spec_q.mean(0).flatten()\n",
    "cd = spec_dla.mean(0).flatten()\n",
    "\n",
    "fig,ax = plt.subplots(2,1)\n",
    "plt.subplots_adjust(hspace=0.2)\n",
    "ax[0].errorbar(x[1:],cx[1:]*1E7,std_q[1:]*1E7,fmt='o',c='b',elinewidth=1,capsize=2,ms=4,label='BOSS subset')\n",
    "ax[0].axhline(y=0,alpha=0.5,ls='--',c='red',lw=0.7)\n",
    "ax[0].text(s='random quasars 1',x=750,y=-1.7,fontsize=14)\n",
    "ax[0].tick_params(labelbottom=False)\n",
    "ax[0].set_ylabel(r'$C_{\\ell}^{\\kappa q}~(\\times 10^{-7})$',fontsize=15)\n",
    "ax[1].errorbar(d[1:],cd[1:]*1E7,std_dla[1:]*1E7,fmt='o',elinewidth=1,c='b',capsize=2,ms=4,label='QSOs with DLAs')\n",
    "ax[1].axhline(y=0,alpha=0.5,ls='--',c='red',lw=0.7)\n",
    "ax[1].set_ylabel(r'$C_{\\ell}^{\\kappa q}~(\\times 10^{-7})$',fontsize=15)\n",
    "ax[1].text(s='random quasars 2',x=750,y=-1.7,fontsize=14)\n",
    "ax[1].set_xlabel(r'$\\ell$',fontsize=20)\n",
    "\n",
    "ax[0].set_xlim(100,1200)\n",
    "ax[0].set_ylim(-2.,2.)\n",
    "ax[0].set_xticks([200,400,600,800,1000])\n",
    "ax[1].set_xlim(100,1200)\n",
    "ax[1].set_xticks([200,400,600,800,1000])\n",
    "ax[1].set_ylim(-2.,2.)\n",
    "plt.savefig('null_test_simulated.pdf',bbox_inches='tight',pad_inches=0.1)\n",
    "plt.show()\n",
    "\n",
    "np.save('nullmock_q.npy',[x,cx,std_q])\n",
    "np.save('nullmock_dla.npy',[d,cd,std_dla])"
   ]
  },
  {
   "cell_type": "code",
   "execution_count": 54,
   "metadata": {},
   "outputs": [
    {
     "name": "stdout",
     "output_type": "stream",
     "text": [
      "Note: redshifts have been re-sorted (earliest first)\n"
     ]
    },
    {
     "data": {
      "text/latex": [
       "$\\displaystyle \\mathrm{a} = -0.046\\pm0.131$"
      ],
      "text/plain": [
       "<IPython.core.display.Math object>"
      ]
     },
     "metadata": {},
     "output_type": "display_data"
    },
    {
     "data": {
      "text/latex": [
       "$\\displaystyle \\mathrm{a} = -0.046\\pm0.131$"
      ],
      "text/plain": [
       "<IPython.core.display.Math object>"
      ]
     },
     "metadata": {},
     "output_type": "display_data"
    },
    {
     "name": "stdout",
     "output_type": "stream",
     "text": [
      "Note: redshifts have been re-sorted (earliest first)\n"
     ]
    },
    {
     "data": {
      "text/latex": [
       "$\\displaystyle \\mathrm{a} = -0.046\\pm0.296$"
      ],
      "text/plain": [
       "<IPython.core.display.Math object>"
      ]
     },
     "metadata": {},
     "output_type": "display_data"
    },
    {
     "data": {
      "text/latex": [
       "$\\displaystyle \\mathrm{a} = -0.046\\pm0.296$"
      ],
      "text/plain": [
       "<IPython.core.display.Math object>"
      ]
     },
     "metadata": {},
     "output_type": "display_data"
    }
   ],
   "source": [
    "%run pipeline_rw.py\n",
    "\n",
    "import numpy.random as rd\n",
    "\n",
    "xx = rd.uniform(0,1,20**5)\n",
    "yy = rd.uniform(0,1,20**5)\n",
    "zz = rd.uniform(2.2,3.4,20**5)\n",
    "ra = 360*xx\n",
    "dec = 90*yy\n",
    "sample_q = pd.DataFrame(np.array([ra,dec,zz]).T,columns=('ra','dec','z'))\n",
    "\n",
    "\n",
    "xx = rd.uniform(0,1,10**5)\n",
    "yy = rd.uniform(0,1,10**5)\n",
    "zz = rd.uniform(2.2,3.4,10**5)\n",
    "ra = 360*xx\n",
    "dec = 90*yy\n",
    "sample_dla = pd.DataFrame(np.array([ra,dec,zz]).T,columns=('ra','dec','z'))\n",
    "\n",
    "bia = bias(sample_q['z'],2.2,3.4,0.2,[x,cx,std_q],start=0)\n",
    "a_opt,a_std = bia.opt_curvefit()\n",
    "ckl = bia.theoretical_curve(a_opt,x=bia.data_l,line=False)\n",
    "a_opt,a_std = bia.opt_curvefit()\n",
    "\n",
    "bia = bias(sample_dla['z'],2.2,3.4,0.2,[d,cd,std_dla],start=0)\n",
    "a_opt,a_std = bia.opt_curvefit()\n",
    "ckl = bia.theoretical_curve(a_opt,x=bia.data_l,line=False)\n",
    "a_opt,a_std = bia.opt_curvefit()"
   ]
  },
  {
   "cell_type": "code",
   "execution_count": null,
   "metadata": {},
   "outputs": [],
   "source": []
  }
 ],
 "metadata": {
  "kernelspec": {
   "display_name": "Python 3",
   "language": "python",
   "name": "python3"
  },
  "language_info": {
   "codemirror_mode": {
    "name": "ipython",
    "version": 3
   },
   "file_extension": ".py",
   "mimetype": "text/x-python",
   "name": "python",
   "nbconvert_exporter": "python",
   "pygments_lexer": "ipython3",
   "version": "3.7.6"
  }
 },
 "nbformat": 4,
 "nbformat_minor": 4
}
