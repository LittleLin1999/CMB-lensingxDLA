{
 "cells": [
  {
   "cell_type": "code",
   "execution_count": 1,
   "metadata": {},
   "outputs": [],
   "source": [
    "%run pipeline.py\n",
    "plt.rcParams['font.family'] = 'serif'\n",
    "plt.rcParams['font.sans-serif'] = 'Times New Roman'\n",
    "plt.rcParams['mathtext.fontset'] = 'cm'\n",
    "plt.rcParams['text.usetex'] = False\n",
    "plt.rcParams['mathtext.rm'] = 'Times New Roman'\n",
    "plt.rcParams['mathtext.it'] = 'Times New Roman:italic'\n",
    "plt.rcParams['mathtext.bf'] = 'Times New Roman:bold'\n",
    "plt.rcParams['font.size'] = 14\n",
    "plt.rcParams['xtick.direction'] = 'in'\n",
    "plt.rcParams['ytick.direction'] = 'in'\n",
    "#plt.rcParams['ytick.left'] = True\n",
    "#plt.rcParams['ytick.right'] = True\n",
    "#plt.rcParams['xtick.top'] = True\n",
    "#plt.rcParams['xtick.bottom'] = True\n",
    "#plt.rcParams['ytick.minor.visible'] = True"
   ]
  },
  {
   "cell_type": "code",
   "execution_count": 2,
   "metadata": {},
   "outputs": [],
   "source": [
    "# Data preparation\n",
    "\n",
    "import pandas as pd\n",
    "from astropy.io import fits\n",
    "import numpy as np\n",
    "\n",
    "DLA = pd.read_csv('../../data/matched_updated_dla.csv')  # updated dla catalogue \n",
    "DR12 = fits.open('../../data/DR12Q.fits')\n",
    "q_mag = []\n",
    "for i in DLA['PSFMAG']:\n",
    "    q_mag.append(float(i.split(',')[1]))\n",
    "q_mag = np.array(q_mag)    \n",
    "q = DLA[(q_mag<=22.0)&(q_mag>=5.0)\n",
    "                   &(DLA['MI']<-23.78)&(DLA['MI']>-28.74)\n",
    "                   &(DLA['FIRST_MATCHED']==0.)\n",
    "                   &(DLA['Z_VI']<=3.4)&(DLA['Z_VI']>=2.2)\n",
    "                   &(DLA['conf']>0.3)\n",
    "                   &(DLA['zabs']<DLA['Z_VI'])]\n",
    "q_mag = []\n",
    "for i in q['PSFMAG']:\n",
    "    q_mag.append(float(i.split(',')[1]))\n",
    "q_mag = np.array(q_mag) \n",
    "\n",
    "q_dla = pd.DataFrame(np.array([q['RA_2'],q['DEC_2'],q['Z_VI'],q['zabs'],q_mag,q['MI']]).T,columns=('ra','dec','z','z_dla','MAG','MI'))\n",
    "qq_dla = np.unique(np.array([q_dla['ra'],q_dla['dec'],q_dla['z']]).T,axis=0)\n",
    "qq_dla = pd.DataFrame(qq_dla,columns=('ra','dec','z'))\n",
    "\n",
    "q_dr12 = DR12[1].data[(DR12[1].data['PSFMAG'][:,1]<=22.)& (DR12[1].data['PSFMAG'][:,1]>=5.)\n",
    "                            &(DR12[1].data['MI']<-23.78)&(DR12[1].data['MI']>=-28.74)\n",
    "                            &(DR12[1].data['Z_VI']<=3.4)&(DR12[1].data['Z_VI']>=2.2)\n",
    "                            &(DR12[1].data['FIRST_MATCHED']==0)\n",
    "                            &(DR12[1].data['BOSS_TARGET1']!=0)]\n",
    "q_dr12 = pd.DataFrame(np.array([q_dr12['RA'],q_dr12['DEC'],q_dr12['Z_VI'],q_dr12['PSFMAG'][:,1],q_dr12['MI']]).T,columns=('ra','dec','z','MAG','MI'))\n",
    "\n"
   ]
  },
  {
   "cell_type": "code",
   "execution_count": 3,
   "metadata": {},
   "outputs": [
    {
     "name": "stdout",
     "output_type": "stream",
     "text": [
      "Sigma is 0.000000 arcmin (0.000000 rad) \n",
      "-> fwhm is 0.000000 arcmin\n",
      "NSIDE = 2048\n",
      "ORDERING = RING in fits file\n",
      "INDXSCHM = IMPLICIT\n"
     ]
    },
    {
     "name": "stderr",
     "output_type": "stream",
     "text": [
      "/home/littlelin/anaconda3/lib/python3.7/site-packages/healpy/fitsfunc.py:352: UserWarning: If you are not specifying the input dtype and using the default np.float64 dtype of read_map(), please consider that it will change in a future version to None as to keep the same dtype of the input file: please explicitly set the dtype if it is important to you.\n",
      "  \"If you are not specifying the input dtype and using the default \"\n"
     ]
    },
    {
     "name": "stdout",
     "output_type": "stream",
     "text": [
      "Sigma is 4.246609 arcmin (0.001235 rad) \n",
      "-> fwhm is 10.000000 arcmin\n",
      "Sigma is 0.000000 arcmin (0.000000 rad) \n",
      "-> fwhm is 0.000000 arcmin\n",
      "Sigma is 4.246609 arcmin (0.001235 rad) \n",
      "-> fwhm is 10.000000 arcmin\n",
      "Sigma is 0.000000 arcmin (0.000000 rad) \n",
      "-> fwhm is 0.000000 arcmin\n",
      "Sigma is 4.246609 arcmin (0.001235 rad) \n",
      "-> fwhm is 10.000000 arcmin\n",
      "Sigma is 0.000000 arcmin (0.000000 rad) \n",
      "-> fwhm is 0.000000 arcmin\n",
      "Sigma is 4.246609 arcmin (0.001235 rad) \n",
      "-> fwhm is 10.000000 arcmin\n",
      "Sigma is 0.000000 arcmin (0.000000 rad) \n",
      "-> fwhm is 0.000000 arcmin\n"
     ]
    }
   ],
   "source": [
    "'''\n",
    "select different sky parts\n",
    "'''\n",
    "\n",
    "from astropy.coordinates import SkyCoord\n",
    "from astropy import units as u\n",
    "import healpy as hp\n",
    "\n",
    "def sky_selection(q,l_range):\n",
    "    n = SkyCoord(ra=q['ra'],dec=q['dec'],unit='deg',frame='icrs')\n",
    "    ng = n.galactic\n",
    "    l,b = ng.l.degree,ng.b.degree\n",
    "    qq = q[(b>0)&(l>l_range[0])&(l<l_range[1])]\n",
    "    \n",
    "    g = SkyCoord(ra=qq['ra'],dec=qq['dec'],unit='deg',frame='icrs')\n",
    "    gg = g.galactic\n",
    "    l = gg.l.degree\n",
    "    b = gg.b.degree\n",
    "    \n",
    "    # construct mask\n",
    "    q_indice = hp.pixelfunc.ang2pix(32,l,b,lonlat=True)     \n",
    "    q_map = np.zeros(hp.nside2npix(32), dtype=np.float)      \n",
    "    for i in range(len(q_indice)):                             \n",
    "        q_map[q_indice[i]] += 1\n",
    "\n",
    "    mask = np.zeros(len(q_map))\n",
    "    for i in range(len(q_map)):\n",
    "        if q_map[i] == 0:       \n",
    "            mask[i] = 0\n",
    "        else:\n",
    "            mask[i] = 1\n",
    "    mask = hp.pixelfunc.ud_grade(mask,nside_out=2048)\n",
    "    \n",
    "    # construct map\n",
    "    q_indice = hp.pixelfunc.ang2pix(2048,l,b,lonlat=True)     \n",
    "    q_map = np.zeros(hp.nside2npix(2048), dtype=np.float)      \n",
    "    for i in range(len(q_indice)):                             \n",
    "        q_map[q_indice[i]] += 1\n",
    "\n",
    "    # construct oversensity map\n",
    "    n_tot = len(mask[mask!=0])\n",
    "    q_mean = len(q_indice)/n_tot\n",
    "    q_map = (q_map-q_mean)/q_mean\n",
    "    \n",
    "    return q_map,mask,qq\n",
    "\n",
    "'''\n",
    "Part 0. : CMB\n",
    "'''\n",
    "map_q,mask_q,qq = sky_selection(q_dr12,[0,100]) # select part of sky for CMB\n",
    "\n",
    "# read CMB map    \n",
    "alm = hp.fitsfunc.read_alm('../../data/Planck2018/MV/dat_klm.fits',hdu=1)\n",
    "cmb_map = hp.sphtfunc.alm2map(alm,nside=2048)\n",
    "mask_cmb = hp.fitsfunc.read_map('../../data/Planck2018/mask.fits') \n",
    "mask_cmb = hp.smoothing(mask_cmb,fwhm=np.deg2rad(10/60))\n",
    "mask_kq = mask_cmb*mask_q         # limit CMB signals to the selected region\n",
    "cmb_map *= hp.smoothing(mask_kq,fwhm=np.deg2rad(10/60))\n",
    "cmb_map = hp.ma(cmb_map*mask_kq)\n",
    "\n",
    "'''\n",
    "Part 1. : QSO with DLAs\n",
    "'''\n",
    "map_dla,mask_dla,q_dla = sky_selection(qq_dla,[120,220])\n",
    "mask_dla = hp.smoothing(mask_dla,fwhm=np.deg2rad(10/60))\n",
    "map_dla = hp.ma(map_dla*mask_dla)\n",
    "'''\n",
    "Part 2. : QSO in DR12\n",
    "'''\n",
    "map_q,mask_q,q_dr12 = sky_selection(q_dr12,[120,220])\n",
    "mask_q = hp.smoothing(mask_q,fwhm=np.deg2rad(10/60))\n",
    "map_q = hp.ma(map_q*mask_q)\n"
   ]
  },
  {
   "cell_type": "code",
   "execution_count": 4,
   "metadata": {},
   "outputs": [],
   "source": [
    "def bin_corr(c_kq,l_min=30,l_max=1200,band=15):   # bin the power-spectrum\n",
    "\n",
    "    width = int((l_max-l_min)/band)                    # number of l in each bin\n",
    "    bin_Cl = np.zeros((band,1))\n",
    "    bin_l = np.zeros((band,1))\n",
    "\n",
    "    for i in range(band):\n",
    "        ell_min = l_min+width*i\n",
    "        ell_max = l_min+(i+1)*width\n",
    "        ell_seq = np.arange(ell_min,ell_max,1)\n",
    "        weights = (2*ell_seq+1)/np.sum(2*ell_seq+1)\n",
    "        bin_l[i] = np.sum(weights*ell_seq)\n",
    "        bin_Cl[i] = np.sum(weights*c_kq[ell_min:ell_max])\n",
    "\n",
    "    return bin_l, bin_Cl\n",
    "\n",
    "def errorbar(q_map,cmb_map,c_kq,band=15,lmin=30,lmax=1200): # calculate errorbar for each data point\n",
    "\n",
    "    width = int((lmax-lmin)/band)\n",
    "\n",
    "    #f_k = len(q_map.mask[q_map.mask==True])/len(q_map.mask)  # the sky fraction of CMB map\n",
    "    #f_q = len(cmb_map.mask[cmb_map.mask==True])/len(cmb_map.mask)        # the sky fraction of QSO map\n",
    "  \n",
    "\n",
    "    rec_sig2= np.zeros((band,1))\n",
    "\n",
    "\n",
    "    c_qq = hp.sphtfunc.anafast(q_map.filled(),q_map.filled(),nspec=lmax) # auto correlation for QSO map\n",
    "    c_kk = hp.sphtfunc.anafast(cmb_map.filled(),cmb_map.filled(),nspec=lmax) # auto correlation for CMB map\n",
    "\n",
    "    denom_l = c_kq**2+c_kk*c_qq  # the reciprocal of var\n",
    "\n",
    "    for a in range(len(rec_sig2)):  # calculate var for each bin\n",
    "        l_max = lmin+width*(a+1)\n",
    "        l_min = lmin+width*a\n",
    "        rec_sig2[a] = np.sum([((2*i+1)/denom_l[i]) for i in range(l_min+1,l_max)])\n",
    "\n",
    "    sig2 = 1/rec_sig2  \n",
    "\n",
    "    return np.sqrt(sig2)"
   ]
  },
  {
   "cell_type": "markdown",
   "metadata": {},
   "source": [
    "# Null test for QSO DR12"
   ]
  },
  {
   "cell_type": "code",
   "execution_count": 5,
   "metadata": {},
   "outputs": [
    {
     "name": "stdout",
     "output_type": "stream",
     "text": [
      "Note: redshifts have been re-sorted (earliest first)\n"
     ]
    },
    {
     "data": {
      "text/latex": [
       "$\\displaystyle \\mathrm{a} = 0.002\\pm0.006$"
      ],
      "text/plain": [
       "<IPython.core.display.Math object>"
      ]
     },
     "metadata": {},
     "output_type": "display_data"
    },
    {
     "data": {
      "text/latex": [
       "$\\displaystyle \\mathrm{a} = 0.002\\pm0.006$"
      ],
      "text/plain": [
       "<IPython.core.display.Math object>"
      ]
     },
     "metadata": {},
     "output_type": "display_data"
    }
   ],
   "source": [
    "Ckq = hp.sphtfunc.anafast(map_q,cmb_map,nspec=1200)\n",
    "err_dr12 = errorbar(map_q,cmb_map,Ckq,band=15)\n",
    "\n",
    "l_dr12,cl_dr12 = bin_corr(Ckq,band=15)\n",
    "\n",
    "%run pipeline.py\n",
    "bia = bias(q_dr12['z'],2.2,3.4,0.2,[l_dr12,cl_dr12,err_dr12])\n",
    "\n",
    "a_opt,a_std = bia.opt_curvefit()\n",
    "ckl = bia.theoretical_curve(a_opt,x=bia.data_l,line=False)\n",
    "bia.outlier(ckl)\n",
    "\n",
    "a_opt,a_std = bia.opt_curvefit()"
   ]
  },
  {
   "cell_type": "markdown",
   "metadata": {},
   "source": [
    "# Null test for QSO with DLAs"
   ]
  },
  {
   "cell_type": "code",
   "execution_count": 6,
   "metadata": {},
   "outputs": [
    {
     "name": "stdout",
     "output_type": "stream",
     "text": [
      "Note: redshifts have been re-sorted (earliest first)\n"
     ]
    },
    {
     "data": {
      "text/latex": [
       "$\\displaystyle \\mathrm{a} = 0.000\\pm0.006$"
      ],
      "text/plain": [
       "<IPython.core.display.Math object>"
      ]
     },
     "metadata": {},
     "output_type": "display_data"
    },
    {
     "data": {
      "text/latex": [
       "$\\displaystyle \\mathrm{a} = 0.000\\pm0.006$"
      ],
      "text/plain": [
       "<IPython.core.display.Math object>"
      ]
     },
     "metadata": {},
     "output_type": "display_data"
    }
   ],
   "source": [
    "Ckq = hp.sphtfunc.anafast(map_dla,cmb_map,nspec=1200)\n",
    "err_dla = errorbar(map_q,cmb_map,Ckq,band=10)\n",
    "\n",
    "l_dla,cl_dla = bin_corr(Ckq,band=10)\n",
    "\n",
    "%run pipeline.py\n",
    "s = np.log10(17882/17774)/0.01\n",
    "bia = bias(q_dr12['z'],2.2,3.4,s,[l_dla,cl_dla,err_dla])\n",
    "\n",
    "a_opt,a_std = bia.opt_curvefit()\n",
    "ckl = bia.theoretical_curve(a_opt,x=bia.data_l,line=False)\n",
    "bia.outlier(ckl)\n",
    "\n",
    "a_opt,a_std = bia.opt_curvefit()"
   ]
  },
  {
   "cell_type": "code",
   "execution_count": 14,
   "metadata": {},
   "outputs": [
    {
     "name": "stderr",
     "output_type": "stream",
     "text": [
      "/home/littlelin/anaconda3/lib/python3.7/site-packages/ipykernel_launcher.py:5: MatplotlibDeprecationWarning: Support for passing a (n, 1)-shaped error array to errorbar() is deprecated since Matplotlib 3.1 and will be removed in 3.3; pass a 1D array instead.\n",
      "  \"\"\"\n",
      "/home/littlelin/anaconda3/lib/python3.7/site-packages/ipykernel_launcher.py:10: MatplotlibDeprecationWarning: Support for passing a (n, 1)-shaped error array to errorbar() is deprecated since Matplotlib 3.1 and will be removed in 3.3; pass a 1D array instead.\n",
      "  # Remove the CWD from sys.path while we load stuff.\n"
     ]
    },
    {
     "data": {
      "image/png": "[encoded data removed]",
      "text/plain": [
       "<Figure size 432x288 with 2 Axes>"
      ]
     },
     "metadata": {
      "needs_background": "light"
     },
     "output_type": "display_data"
    }
   ],
   "source": [
    "import matplotlib.pyplot as plt\n",
    "\n",
    "fig,ax = plt.subplots(2,1)\n",
    "plt.subplots_adjust(hspace=0.2)\n",
    "ax[0].errorbar(l_dr12[1:],cl_dr12[1:]*1E9,err_dr12[1:]*1E9,fmt='o',c='b',elinewidth=1,capsize=2,ms=4,label='BOSS subset')\n",
    "ax[0].axhline(y=0,alpha=0.5,ls='--',c='red',lw=0.7)\n",
    "ax[0].text(s='BOSS subset',x=850,y=-2.5,fontsize=14)\n",
    "ax[0].tick_params(labelbottom=False)\n",
    "ax[0].set_ylabel(r'$C_{\\ell}^{\\kappa q}~(\\times 10^{-9})$',fontsize=15)\n",
    "ax[1].errorbar(l_dla[1:],cl_dla[1:]*1E9,err_dla[1:]*1E9,fmt='o',elinewidth=1,c='b',capsize=2,ms=4,label='QSOs with DLAs')\n",
    "ax[1].axhline(y=0,alpha=0.5,ls='--',c='red',lw=0.7)\n",
    "ax[1].set_ylabel(r'$C_{\\ell}^{\\kappa q}~(\\times 10^{-9})$',fontsize=15)\n",
    "ax[1].text(s='QSOs with DLAs',x=750,y=-2.5,fontsize=14)\n",
    "ax[1].set_xlabel(r'$\\ell$',fontsize=20)\n",
    "\n",
    "ax[0].set_xlim(100,1200)\n",
    "ax[0].set_ylim(-3.,2.5)\n",
    "ax[0].set_xticks([200,400,600,800,1000])\n",
    "ax[1].set_xlim(100,1200)\n",
    "ax[1].set_xticks([200,400,600,800,1000])\n",
    "ax[1].set_ylim(-3.,2.5)\n",
    "plt.savefig('null_test.pdf',bbox_inches='tight',pad_inches=0)\n",
    "plt.show()"
   ]
  },
  {
   "cell_type": "code",
   "execution_count": null,
   "metadata": {},
   "outputs": [],
   "source": []
  },
  {
   "cell_type": "code",
   "execution_count": null,
   "metadata": {},
   "outputs": [],
   "source": []
  },
  {
   "cell_type": "code",
   "execution_count": null,
   "metadata": {},
   "outputs": [],
   "source": []
  }
 ],
 "metadata": {
  "kernelspec": {
   "display_name": "Python 3",
   "language": "python",
   "name": "python3"
  },
  "language_info": {
   "codemirror_mode": {
    "name": "ipython",
    "version": 3
   },
   "file_extension": ".py",
   "mimetype": "text/x-python",
   "name": "python",
   "nbconvert_exporter": "python",
   "pygments_lexer": "ipython3",
   "version": "3.7.6"
  }
 },
 "nbformat": 4,
 "nbformat_minor": 4
}
